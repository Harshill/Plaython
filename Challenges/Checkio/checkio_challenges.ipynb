{
 "cells": [
  {
   "cell_type": "markdown",
   "metadata": {},
   "source": [
    "Challenge: Check if input number is divisible by 3 or 5 and have the program respond accordingly"
   ]
  },
  {
   "cell_type": "code",
   "execution_count": 1,
   "metadata": {
    "collapsed": true
   },
   "outputs": [],
   "source": [
    "#Your optional code here\n",
    "#You can import some modules or create additional functions\n",
    "\n",
    "#My solution\n",
    "\n",
    "def checkio(number):\n",
    "    if number%3 == 0 and number%5 == 0:\n",
    "        return \"Fizz Buzz\"\n",
    "    elif number%3 == 0:\n",
    "        return \"Fizz\"\n",
    "    elif number%5 == 0:\n",
    "        return \"Buzz\"\n",
    "    else:\n",
    "        return str(number)\n",
    "    \n",
    "#Other solutions\n",
    "\n",
    "#1\n",
    "\n",
    "checkio=lambda n:(\"Fizz \"*(1-n%3)+\"Buzz \"*(1-n%5))[:-1]or str(n)\n",
    "\n",
    "\n",
    "\n"
   ]
  },
  {
   "cell_type": "markdown",
   "metadata": {},
   "source": [
    "Challenge 2: You are given an array with positive numbers and a number N. You should find the N-th power of the element in the array with the index N. If N is outside of the array, then return -1. Don't forget that the first element has the index 0.\n",
    "\n",
    "Let's look at a few examples:\n",
    "- array = [1, 2, 3, 4] and N = 2, then the result is 32 == 9;\n",
    "- array = [1, 2, 3] and N = 3, but N is outside of the array, so the result is -1.\n",
    "\n",
    "Input: Two arguments. An array as a list of integers and a number as a integer.\n",
    "\n",
    "Output: The result as an integer.\n",
    "\n",
    "Precondition: 0 < len(array) ≤ 10\n",
    "0 ≤ N\n",
    "all(0 ≤ x ≤ 100 for x in array)"
   ]
  },
  {
   "cell_type": "code",
   "execution_count": 3,
   "metadata": {
    "collapsed": true
   },
   "outputs": [],
   "source": [
    "#1. \n",
    "\n",
    "def index_power(array, n):\n",
    "    if n>(len(array)-1) or n<0:\n",
    "        return -1\n",
    "    else:\n",
    "        return array[n]**n\n",
    "        \n",
    "\n",
    "#2.\n",
    "\n",
    "def index_power(array, n):\n",
    "    try: return array[n] ** n\n",
    "    except IndexError: return -1\n",
    "\n",
    "\n",
    "#3.\n",
    "def index_power(array, n):\n",
    "    \"\"\"\n",
    "        Find Nth power of the element with index N.\n",
    "    \"\"\"\n",
    "    return array[n]**n if len(array) > n else -1\n"
   ]
  },
  {
   "cell_type": "markdown",
   "metadata": {},
   "source": [
    "Challenge 3 - Find the sum of numbers in an array at every even index then multiply by last term"
   ]
  },
  {
   "cell_type": "code",
   "execution_count": 4,
   "metadata": {
    "collapsed": true
   },
   "outputs": [],
   "source": [
    "#1.\n",
    "\n",
    "def checkio(array):\n",
    "    \"\"\"\n",
    "        sums even-indexes elements and multiply at the last\n",
    "    \"\"\"\n",
    "    try:\n",
    "        b = 0\n",
    "        for i in range(0,len(array),2):\n",
    "            b += array[i]\n",
    "        return(b*array[-1])\n",
    "    except:\n",
    "        return(0)\n",
    "\n",
    "#2. \n",
    "\n",
    "def checkio(array):\n",
    "\n",
    "    \"\"\"\n",
    "\n",
    "        sums even-indexes elements and multiply at the last\n",
    "\n",
    "    \"\"\"\n",
    "\n",
    "    if len(array) == 0: return 0\n",
    "\n",
    "    return sum(array[0::2]) * array[-1]\n",
    "\n",
    "#3. \n",
    "\n",
    "\n",
    "\n",
    "checkio=lambda x: sum(x[::2])*x[-1] if x else 0\n",
    "\n"
   ]
  },
  {
   "cell_type": "markdown",
   "metadata": {},
   "source": [
    "Challenge 4. Find secret message from a string by getting all the capital letters"
   ]
  },
  {
   "cell_type": "code",
   "execution_count": 5,
   "metadata": {
    "collapsed": true
   },
   "outputs": [],
   "source": [
    "#1. \n",
    "\n",
    "def find_message(text):\n",
    "    \"\"\"Find a secret message\"\"\"\n",
    "    b = ''\n",
    "    for word in text:\n",
    "        for letter in word:\n",
    "            if letter.isupper():\n",
    "                b += letter\n",
    "    return(b)\n",
    "\n",
    "#2.\n",
    "\n",
    "def find_message(text):\n",
    "    \"\"\"Find a secret message\"\"\"\n",
    "    return ''.join([letter for letter in text if letter.isupper()])\n",
    "\n",
    "#3.\n",
    "\n",
    "find_message = lambda text: ''.join(filter(str.isupper, text))"
   ]
  },
  {
   "cell_type": "markdown",
   "metadata": {},
   "source": [
    "Challenge - check if a string has three words in succession, return true or false"
   ]
  },
  {
   "cell_type": "code",
   "execution_count": 10,
   "metadata": {
    "collapsed": true
   },
   "outputs": [],
   "source": [
    "#1. \n",
    "\n",
    "# Multiples word.isalpha() with success+1 very creative\n",
    "def checkio(words):\n",
    "    succ = 0\n",
    "    for word in words.split():\n",
    "        succ = (succ + 1)*word.isalpha()\n",
    "        if succ == 3: return True\n",
    "    else: return False\n",
    "\n",
    "#2. \n",
    "\n",
    "def checkio(words):\n",
    "\n",
    "    count = 0\n",
    "    \n",
    "    for word in words.split():\n",
    "        if word.isalpha():\n",
    "            if count == 2:\n",
    "                return True\n",
    "            count += 1\n",
    "        else:\n",
    "            count = 0\n",
    "    return False\n",
    "\n",
    "#3.\n",
    "\n",
    "#if its a word = w, if not = d in a string, then check for www very clever\n",
    "\n",
    "checkio=lambda x:\"www\" in \"\".join('w' if w.isalpha() else 'd' for w in x.split())\n",
    "\n",
    "\n",
    "\n"
   ]
  },
  {
   "cell_type": "markdown",
   "metadata": {},
   "source": [
    "Challenge - from a list of numbers find the difference between the maximum and minimum value, return zero if the list is empty"
   ]
  },
  {
   "cell_type": "code",
   "execution_count": 11,
   "metadata": {
    "collapsed": true
   },
   "outputs": [],
   "source": [
    "#1. \n",
    "\n",
    "def checkio(*args):\n",
    "    if len(args) == 0:\n",
    "        return 0\n",
    "    else:\n",
    "        c = args[0]\n",
    "        d = c\n",
    "        for number in args:\n",
    "            if number > c:\n",
    "                c = number\n",
    "            if number < d:\n",
    "                d = number\n",
    "\n",
    "    return c - d\n",
    "\n",
    "\n",
    "#2. \n",
    "\n",
    "def checkio(*args):\n",
    "    return max(args) - min(args) if args else 0\n",
    "\n",
    "#3. \n",
    "\n",
    "\n",
    "\n",
    "checkio=lambda*a:len(a) and max(a)-min(a)\n",
    "\n",
    "\n",
    "\n"
   ]
  },
  {
   "cell_type": "markdown",
   "metadata": {},
   "source": [
    "Challenge - replace all instances of 'right' with 'left'"
   ]
  },
  {
   "cell_type": "code",
   "execution_count": 12,
   "metadata": {
    "collapsed": true
   },
   "outputs": [],
   "source": [
    "def left_join(phrases):\n",
    "    \"\"\"\n",
    "        Join strings and replace \"right\" to \"left\"\n",
    "    \"\"\"\n",
    "    return(','.join(phrases).replace('right','left'))"
   ]
  },
  {
   "cell_type": "markdown",
   "metadata": {},
   "source": [
    "Challenge - find the products of the digits of an integer, ignore zeroes"
   ]
  },
  {
   "cell_type": "code",
   "execution_count": 13,
   "metadata": {
    "collapsed": true
   },
   "outputs": [],
   "source": [
    "#1. \n",
    "\n",
    "def checkio(number):\n",
    "\n",
    "    number = str(number)\n",
    "    product = 1\n",
    "    for digit in number:\n",
    "        if digit != '0':\n",
    "            product *= int(digit)\n",
    "\n",
    "    return(product)\n",
    "\n",
    "#2. \n",
    "\n",
    "\n",
    "def checkio(number):\n",
    "\n",
    "    \"\"\"\n",
    "    Convert into the string and iterate.\n",
    "    \"\"\"\n",
    "    res = 1\n",
    "    for digit in str(number):\n",
    "        res *= int(digit) if int(digit) else 1\n",
    "    return res\n",
    "\n",
    "#3.\n",
    "\n",
    "checkio = lambda n: eval(\"*\".join(i for i in str(n) if i != '0'))\n",
    "\n",
    "#4. \n",
    "\n",
    "from functools import reduce\n",
    "from operator import mul\n",
    "\n",
    "def checkio(number):\n",
    "    return reduce(mul, (int(x) for x in str(number) if x != '0'))\n",
    "\n",
    "\n",
    "\n"
   ]
  },
  {
   "cell_type": "markdown",
   "metadata": {},
   "source": [
    "Challenge, get the radix of a number? I think it converts a number to another base"
   ]
  },
  {
   "cell_type": "code",
   "execution_count": 14,
   "metadata": {
    "collapsed": true
   },
   "outputs": [],
   "source": [
    "def checkio(str_number, radix):\n",
    "    try:\n",
    "        return(int(str_number, radix))\n",
    "    except:\n",
    "        return -1\n",
    "    \n",
    "\n",
    "\n",
    "def checkio(*a):\n",
    "    try: return int(*a)\n",
    "    except ValueError: return -1\n",
    "\n"
   ]
  },
  {
   "cell_type": "markdown",
   "metadata": {},
   "source": [
    "Challenge - sort an array by absolute value smallest to largest"
   ]
  },
  {
   "cell_type": "code",
   "execution_count": 21,
   "metadata": {
    "collapsed": false
   },
   "outputs": [],
   "source": [
    "#1. \n",
    "\n",
    "def checkio(numbers_array):\n",
    "    a = list(numbers_array)\n",
    "    a.sort(key = abs)\n",
    "    return a\n",
    "\n",
    "#2. \n",
    "\n",
    "\n",
    "\n",
    "def checkio(numbers_array):\n",
    "\n",
    "    \"\"\"\n",
    "    The magic of the key :)\n",
    "    \"\"\"\n",
    "    return tuple(sorted(numbers_array, key=abs))\n",
    "\n",
    "#3. \n",
    "\n",
    "checkio=lambda n:sorted(n,key=abs)\n",
    "\n"
   ]
  },
  {
   "cell_type": "markdown",
   "metadata": {},
   "source": [
    "Challenge - return non unique elements of a list"
   ]
  },
  {
   "cell_type": "code",
   "execution_count": null,
   "metadata": {
    "collapsed": true
   },
   "outputs": [],
   "source": [
    "#1. \n",
    "\n",
    "def checkio(data):\n",
    "    \n",
    "    return [i for i in data if data.count(i)>1]\n",
    "\n",
    "#2. \n",
    "\n",
    "checkio=lambda d:[x for x in d if d.count(x)>1]\n",
    "\n",
    "#3. \n",
    "\n",
    "\n",
    "\n",
    "\n"
   ]
  }
 ],
 "metadata": {
  "kernelspec": {
   "display_name": "Python 3",
   "language": "python",
   "name": "python3"
  },
  "language_info": {
   "codemirror_mode": {
    "name": "ipython",
    "version": 3
   },
   "file_extension": ".py",
   "mimetype": "text/x-python",
   "name": "python",
   "nbconvert_exporter": "python",
   "pygments_lexer": "ipython3",
   "version": "3.5.2"
  }
 },
 "nbformat": 4,
 "nbformat_minor": 2
}
