{
 "cells": [
  {
   "cell_type": "code",
   "execution_count": 21,
   "metadata": {
    "collapsed": false
   },
   "outputs": [],
   "source": [
    "import matplotlib.pyplot as graph\n",
    "import pandas as pd\n",
    "from sklearn.datasets import make_regression\n",
    "from IPython.display import display"
   ]
  },
  {
   "cell_type": "code",
   "execution_count": 10,
   "metadata": {
    "collapsed": false
   },
   "outputs": [
    {
     "data": {
      "text/plain": [
       "(100, 10)"
      ]
     },
     "metadata": {},
     "output_type": "display_data"
    },
    {
     "data": {
      "text/plain": [
       "(100,)"
      ]
     },
     "metadata": {},
     "output_type": "display_data"
    }
   ],
   "source": [
    "x, y = make_regression(n_samples=100, n_features=10, n_informative=5)\n",
    "\n",
    "display(x.shape)\n",
    "display(y.shape)"
   ]
  },
  {
   "cell_type": "code",
   "execution_count": 23,
   "metadata": {
    "collapsed": false
   },
   "outputs": [
    {
     "data": {
      "text/html": [
       "<div>\n",
       "<table border=\"1\" class=\"dataframe\">\n",
       "  <thead>\n",
       "    <tr style=\"text-align: right;\">\n",
       "      <th></th>\n",
       "      <th>0</th>\n",
       "      <th>1</th>\n",
       "      <th>2</th>\n",
       "      <th>3</th>\n",
       "      <th>4</th>\n",
       "      <th>5</th>\n",
       "      <th>6</th>\n",
       "      <th>7</th>\n",
       "      <th>8</th>\n",
       "      <th>9</th>\n",
       "      <th>y</th>\n",
       "    </tr>\n",
       "  </thead>\n",
       "  <tbody>\n",
       "    <tr>\n",
       "      <th>0</th>\n",
       "      <td>0.970662</td>\n",
       "      <td>-1.034540</td>\n",
       "      <td>-1.069012</td>\n",
       "      <td>-0.092238</td>\n",
       "      <td>-0.520717</td>\n",
       "      <td>0.607472</td>\n",
       "      <td>0.663223</td>\n",
       "      <td>1.461222</td>\n",
       "      <td>-0.999376</td>\n",
       "      <td>-0.041785</td>\n",
       "      <td>132.771739</td>\n",
       "    </tr>\n",
       "    <tr>\n",
       "      <th>1</th>\n",
       "      <td>-0.780806</td>\n",
       "      <td>-1.942090</td>\n",
       "      <td>-0.997309</td>\n",
       "      <td>-0.345187</td>\n",
       "      <td>0.237518</td>\n",
       "      <td>0.997949</td>\n",
       "      <td>0.466263</td>\n",
       "      <td>1.032193</td>\n",
       "      <td>-1.431811</td>\n",
       "      <td>-1.418604</td>\n",
       "      <td>-36.970430</td>\n",
       "    </tr>\n",
       "    <tr>\n",
       "      <th>2</th>\n",
       "      <td>0.976191</td>\n",
       "      <td>0.711934</td>\n",
       "      <td>0.525055</td>\n",
       "      <td>0.784861</td>\n",
       "      <td>-0.484013</td>\n",
       "      <td>-0.877602</td>\n",
       "      <td>-0.135557</td>\n",
       "      <td>1.003578</td>\n",
       "      <td>-0.624400</td>\n",
       "      <td>-0.849316</td>\n",
       "      <td>90.292409</td>\n",
       "    </tr>\n",
       "    <tr>\n",
       "      <th>3</th>\n",
       "      <td>-0.728369</td>\n",
       "      <td>-0.250258</td>\n",
       "      <td>-2.469142</td>\n",
       "      <td>1.740932</td>\n",
       "      <td>-0.492496</td>\n",
       "      <td>0.380996</td>\n",
       "      <td>0.103160</td>\n",
       "      <td>-1.423503</td>\n",
       "      <td>0.239152</td>\n",
       "      <td>0.396303</td>\n",
       "      <td>-7.181136</td>\n",
       "    </tr>\n",
       "    <tr>\n",
       "      <th>4</th>\n",
       "      <td>1.314731</td>\n",
       "      <td>-1.584962</td>\n",
       "      <td>-0.163765</td>\n",
       "      <td>-0.460238</td>\n",
       "      <td>-0.208330</td>\n",
       "      <td>-1.451334</td>\n",
       "      <td>-0.850232</td>\n",
       "      <td>-1.306728</td>\n",
       "      <td>-0.443922</td>\n",
       "      <td>-0.682250</td>\n",
       "      <td>25.489963</td>\n",
       "    </tr>\n",
       "  </tbody>\n",
       "</table>\n",
       "</div>"
      ],
      "text/plain": [
       "          0         1         2         3         4         5         6  \\\n",
       "0  0.970662 -1.034540 -1.069012 -0.092238 -0.520717  0.607472  0.663223   \n",
       "1 -0.780806 -1.942090 -0.997309 -0.345187  0.237518  0.997949  0.466263   \n",
       "2  0.976191  0.711934  0.525055  0.784861 -0.484013 -0.877602 -0.135557   \n",
       "3 -0.728369 -0.250258 -2.469142  1.740932 -0.492496  0.380996  0.103160   \n",
       "4  1.314731 -1.584962 -0.163765 -0.460238 -0.208330 -1.451334 -0.850232   \n",
       "\n",
       "          7         8         9           y  \n",
       "0  1.461222 -0.999376 -0.041785  132.771739  \n",
       "1  1.032193 -1.431811 -1.418604  -36.970430  \n",
       "2  1.003578 -0.624400 -0.849316   90.292409  \n",
       "3 -1.423503  0.239152  0.396303   -7.181136  \n",
       "4 -1.306728 -0.443922 -0.682250   25.489963  "
      ]
     },
     "metadata": {},
     "output_type": "display_data"
    }
   ],
   "source": [
    "data = pd.DataFrame(x)\n",
    "data['y'] = y\n",
    "\n",
    "display(data.head())"
   ]
  },
  {
   "cell_type": "code",
   "execution_count": null,
   "metadata": {
    "collapsed": true
   },
   "outputs": [],
   "source": []
  }
 ],
 "metadata": {
  "anaconda-cloud": {},
  "kernelspec": {
   "display_name": "Python [default]",
   "language": "python",
   "name": "python3"
  },
  "language_info": {
   "codemirror_mode": {
    "name": "ipython",
    "version": 3
   },
   "file_extension": ".py",
   "mimetype": "text/x-python",
   "name": "python",
   "nbconvert_exporter": "python",
   "pygments_lexer": "ipython3",
   "version": "3.5.2"
  }
 },
 "nbformat": 4,
 "nbformat_minor": 1
}
